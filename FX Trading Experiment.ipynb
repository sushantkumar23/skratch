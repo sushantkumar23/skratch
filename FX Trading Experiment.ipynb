{
 "cells": [
  {
   "cell_type": "code",
   "execution_count": 1,
   "metadata": {},
   "outputs": [],
   "source": [
    "# Import the environment, agent and Experiment Runner\n",
    "import gym\n",
    "import gym_trading\n",
    "\n",
    "from skratch.agents import RandomAgent\n",
    "from skratch.trading.run_experiment import Runner"
   ]
  },
  {
   "cell_type": "code",
   "execution_count": 2,
   "metadata": {},
   "outputs": [
    {
     "name": "stdout",
     "output_type": "stream",
     "text": [
      "fx_data/2017/01/EURUSD-2017-01.zip file already exists\n",
      "fx_data/2017/02/EURUSD-2017-02.zip file already exists\n",
      "Pre-processing the data\n",
      "Loading the series from the file\n",
      "Loading the series from the file\n",
      "Creating Random Agent with 3 actions\n"
     ]
    }
   ],
   "source": [
    "# Intialize the env and the agent\n",
    "env = gym.make('fxtrading-v0')\n",
    "agent = RandomAgent(env.action_space.n)"
   ]
  },
  {
   "cell_type": "code",
   "execution_count": 3,
   "metadata": {},
   "outputs": [],
   "source": [
    "# Create the Runner with agent and env and call the run_experiment method\n",
    "runner = Runner(agent, env)\n",
    "runner.run_experiment()"
   ]
  },
  {
   "cell_type": "code",
   "execution_count": null,
   "metadata": {},
   "outputs": [],
   "source": []
  }
 ],
 "metadata": {
  "kernelspec": {
   "display_name": "Python [conda root]",
   "language": "python",
   "name": "conda-root-py"
  },
  "language_info": {
   "codemirror_mode": {
    "name": "ipython",
    "version": 3
   },
   "file_extension": ".py",
   "mimetype": "text/x-python",
   "name": "python",
   "nbconvert_exporter": "python",
   "pygments_lexer": "ipython3",
   "version": "3.6.4"
  }
 },
 "nbformat": 4,
 "nbformat_minor": 2
}
